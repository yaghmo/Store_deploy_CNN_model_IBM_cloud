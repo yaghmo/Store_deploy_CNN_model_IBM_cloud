{
 "cells": [
  {
   "cell_type": "markdown",
   "metadata": {},
   "source": [
    "# Deployment of a trained model that had been stored in IBM Watson Machine Learning Service"
   ]
  },
  {
   "cell_type": "code",
   "execution_count": 7,
   "metadata": {},
   "outputs": [
    {
     "name": "stdout",
     "output_type": "stream",
     "text": [
      "Note: 'limit' is not provided. Only first 50 records will be displayed if the number of records exceed 50\n",
      "------------------------------------  ------------  ------------------------\n",
      "ID                                    NAME          CREATED\n",
      "aae29536-2d1b-46d5-8c3b-ba01545330a1  Model_deploy  2023-11-12T18:17:47.028Z\n",
      "------------------------------------  ------------  ------------------------\n"
     ]
    }
   ],
   "source": [
    "from ibm_watson_machine_learning import APIClient\n",
    "\n",
    "\n",
    "credentials = {\n",
    "    \"apikey\":\"\",\n",
    "    # the WML was created in london region #\n",
    "    \"url\":\"https://eu-gb.ml.cloud.ibm.com\"\n",
    "}\n",
    "\n",
    "wml_client = APIClient(credentials)\n",
    "list = wml_client.spaces.list()"
   ]
  },
  {
   "cell_type": "markdown",
   "metadata": {},
   "source": [
    "# Getting creds: \n",
    "Please refer to this Github file [`Store_model.ipynb`](https://github.com/yaghmo/store_deploy_CNN_model_IBM_cloud/blob/main/Store_model.ipynb)"
   ]
  },
  {
   "cell_type": "code",
   "execution_count": 122,
   "metadata": {},
   "outputs": [
    {
     "name": "stdout",
     "output_type": "stream",
     "text": [
      "------------------------------------  --------------------  ------------------------  ---------------  ----------  ----------------\n",
      "ID                                    NAME                  CREATED                   TYPE             SPEC_STATE  SPEC_REPLACEMENT\n",
      "39df5cf2-3706-457c-8ab2-abf538fd807e  jellyfish_classifier  2023-11-13T14:00:40.002Z  tensorflow_2.12  supported\n",
      "------------------------------------  --------------------  ------------------------  ---------------  ----------  ----------------\n"
     ]
    }
   ],
   "source": [
    "space_name = 'Model_deploy'\n",
    "space_guid = list[list['NAME']==space_name]['ID'][0]\n",
    "wml_client.set.default_space(space_guid)\n",
    "models_details = wml_client._models.list()"
   ]
  },
  {
   "cell_type": "code",
   "execution_count": 124,
   "metadata": {},
   "outputs": [],
   "source": [
    "# name of your model #\n",
    "model_name = 'jellyfish_classifier'\n",
    "model_uid = models_details[models_details['NAME']==model_name]['ID'][0]"
   ]
  },
  {
   "cell_type": "code",
   "execution_count": 125,
   "metadata": {},
   "outputs": [
    {
     "name": "stdout",
     "output_type": "stream",
     "text": [
      "\n",
      "\n",
      "#######################################################################################\n",
      "\n",
      "Synchronous deployment creation for uid: '39df5cf2-3706-457c-8ab2-abf538fd807e' started\n",
      "\n",
      "#######################################################################################\n",
      "\n",
      "\n",
      "initializing\n",
      "Note: online_url and serving_urls are deprecated and will be removed in a future release. Use inference instead.\n",
      "....\n",
      "ready\n",
      "\n",
      "\n",
      "------------------------------------------------------------------------------------------------\n",
      "Successfully finished deployment creation, deployment_uid='820ffddc-d1ed-4cb4-801c-12f664ecc153'\n",
      "------------------------------------------------------------------------------------------------\n",
      "\n",
      "\n"
     ]
    },
    {
     "data": {
      "text/plain": [
       "'NOTE: you can print the deployment variable to see its details but if no error is shows it should be working'"
      ]
     },
     "execution_count": 125,
     "metadata": {},
     "output_type": "execute_result"
    }
   ],
   "source": [
    "# Set meta #\n",
    "deployment_props = {\n",
    "    wml_client.deployments.ConfigurationMetaNames.NAME:space_name, \n",
    "    wml_client.deployments.ConfigurationMetaNames.ONLINE: {}\n",
    "}\n",
    "\n",
    "# Deploy #\n",
    "deployment = wml_client.deployments.create(\n",
    "    artifact_uid=model_uid, \n",
    "    meta_props=deployment_props \n",
    ")\n",
    "\n",
    "'''NOTE: you can print the deployment variable to see its details but if no error is shows it should be working'''"
   ]
  },
  {
   "cell_type": "code",
   "execution_count": 131,
   "metadata": {},
   "outputs": [],
   "source": [
    "# getting 1 sample input #\n",
    "from PIL import Image\n",
    "import tensorflow as tf\n",
    "import numpy as np\n",
    "im_height, im_width = 256, 256\n",
    "\n",
    "# same as used for training the model #\n",
    "def preprocess(image):\n",
    "    image = tf.image.resize(image, (im_height, im_width))\n",
    "    image = image / 255.0  \n",
    "    image =  np.array(image)\n",
    "    return image\n",
    "\n",
    "# list of your images, in this case randomly from internet #\n",
    "images = ['./moon.jpg','./barrel.jpg','./compass.jpg','./lion.jpg','./mauve.jpg','./blue.jpg']\n",
    "\n",
    "input = []\n",
    "for image in images:\n",
    "    input.append(preprocess(Image.open(image)))\n",
    "# NOTE : the input has to be a list of numpy : even if you used a Dataframe just do pd.to_numpy().to_list() to your input df #\n",
    "input = np.array(input).tolist()"
   ]
  },
  {
   "cell_type": "code",
   "execution_count": 128,
   "metadata": {},
   "outputs": [],
   "source": [
    "deployment_uid = wml_client.deployments.get_uid(deployment)\n",
    "\n",
    "# preparing the inputs\n",
    "payload = {\"input_data\":\n",
    "           [    \n",
    "               {\"values\":input}\n",
    "           ]\n",
    "          }\n",
    "results = wml_client.deployments.score(deployment_uid, payload)['predictions'][0]"
   ]
  },
  {
   "cell_type": "markdown",
   "metadata": {},
   "source": [
    "#### The model only recognize one of these 6 jellyfish types:\n",
    "- Moon jellyfish\n",
    "- barrel jellyfish\n",
    "- blue jellyfish\n",
    "- compass jellyfish\n",
    "- lions mane jellyfish\n",
    "- mauve stinger jellyfish\n"
   ]
  },
  {
   "cell_type": "code",
   "execution_count": 130,
   "metadata": {},
   "outputs": [
    {
     "name": "stdout",
     "output_type": "stream",
     "text": [
      "The image ./moon.jpg is Moon_jellyfish with the score of 1.00%\n",
      "The image ./barrel.jpg is barrel_jellyfish with the score of 0.96%\n",
      "The image ./compass.jpg is compass_jellyfish with the score of 0.94%\n",
      "The image ./lion.jpg is compass_jellyfish with the score of 0.63%\n",
      "The image ./mauve.jpg is compass_jellyfish with the score of 0.64%\n",
      "The image ./blue.jpg is Moon_jellyfish with the score of 0.98%\n"
     ]
    }
   ],
   "source": [
    "# the types we have they need to be sorted as the same way they been sorted in species variable during the cnn model training #\n",
    "types = ['Moon jellyfish', 'barrel jellyfish', 'blue jellyfish', 'compass jellyfish', 'lions mane jellyfish', 'mauve stinger jellyfish']\n",
    "# types = ['Moon_jellyfish', 'barrel_jellyfish', 'blue_jellyfish', 'compass_jellyfish', 'lions_mane_jellyfish', 'mauve_stinger_jellyfish']\n",
    "\n",
    "for result,image in zip(results['values'],images):\n",
    "    print('The image {} is a {} with the score of {:.2f}%'.format(image,types[np.argmax(result)],np.max(result)))"
   ]
  }
 ],
 "metadata": {
  "kernelspec": {
   "display_name": "Python 3",
   "language": "python",
   "name": "python3"
  },
  "language_info": {
   "codemirror_mode": {
    "name": "ipython",
    "version": 3
   },
   "file_extension": ".py",
   "mimetype": "text/x-python",
   "name": "python",
   "nbconvert_exporter": "python",
   "pygments_lexer": "ipython3",
   "version": "3.10.12"
  }
 },
 "nbformat": 4,
 "nbformat_minor": 2
}
